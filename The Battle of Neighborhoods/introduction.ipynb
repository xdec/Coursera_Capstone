{
 "metadata": {
  "language_info": {
   "codemirror_mode": {
    "name": "ipython",
    "version": 3
   },
   "file_extension": ".py",
   "mimetype": "text/x-python",
   "name": "python",
   "nbconvert_exporter": "python",
   "pygments_lexer": "ipython3",
   "version": 3
  },
  "orig_nbformat": 2
 },
 "nbformat": 4,
 "nbformat_minor": 2,
 "cells": [
  {
   "source": [
    "# The Battle of Neighbourhoods\n",
    "\n",
    "### Introduction\n",
    "New York City is known as one of the most expensive cities in the world. Property prices in this city are among the highest in the world. This makes New York an attractive - yet equally competitive - market for realtors.\n",
    "\n",
    "We're going to dive deeper into the property market to find out which districts and neighbourhoods are likely to provide realtors with the highest returns. We'll take a look at sales data from 2020 and use both median prices as well as the number of transactions to arrive at a conclusion.\n",
    "\n",
    "As a secondary objective, we'll test the hypothesis that people are willing to pay more when there are more amenities close by - as there would be a perceived increase in convenience. We're expecting the average rating for the nearby locations to be in an average range between 3.5 and 4.0 as people in these areas are likely to have high expectations."
   ],
   "cell_type": "markdown",
   "metadata": {}
  }
 ]
}